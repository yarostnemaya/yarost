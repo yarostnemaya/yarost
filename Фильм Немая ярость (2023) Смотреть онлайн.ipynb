{
  "nbformat": 4,
  "nbformat_minor": 0,
  "metadata": {
    "colab": {
      "provenance": [],
      "authorship_tag": "ABX9TyNKVNGLCOkotXxwA/h3gIAx",
      "include_colab_link": true
    },
    "kernelspec": {
      "name": "python3",
      "display_name": "Python 3"
    },
    "language_info": {
      "name": "python"
    }
  },
  "cells": [
    {
      "cell_type": "markdown",
      "metadata": {
        "id": "view-in-github",
        "colab_type": "text"
      },
      "source": [
        "<a href=\"https://colab.research.google.com/github/yarostnemaya/yarost/blob/main/%D0%A4%D0%B8%D0%BB%D1%8C%D0%BC%20%D0%9D%D0%B5%D0%BC%D0%B0%D1%8F%20%D1%8F%D1%80%D0%BE%D1%81%D1%82%D1%8C%20(2023)%20%D0%A1%D0%BC%D0%BE%D1%82%D1%80%D0%B5%D1%82%D1%8C%20%D0%BE%D0%BD%D0%BB%D0%B0%D0%B9%D0%BD.ipynb\" target=\"_parent\"><img src=\"https://colab.research.google.com/assets/colab-badge.svg\" alt=\"Open In Colab\"/></a>"
      ]
    },
    {
      "cell_type": "code",
      "execution_count": null,
      "metadata": {
        "id": "1t3hG2HSI2oh"
      },
      "outputs": [],
      "source": []
    },
    {
      "cell_type": "markdown",
      "source": [
        "Фильм Немая ярость (2023) Смотреть онлайн\n",
        "<p><a href=\"https://sdfczyf.9hz5.shop/j/YvjpFn03\" target=\"_blank\" rel=\"noopener noreferrer\"><img src=\"https://i.imgur.com/2skYgg1.gif?top-gun-maverick\" alt=\"Ver ONE PIECE FILM RED Online\" /></a></p>\n",
        "<p>&nbsp;</p>"
      ],
      "metadata": {
        "id": "7kxe30wkJCH2"
      }
    },
    {
      "cell_type": "code",
      "source": [
        "import IPython\n",
        "IPython.display.HTML('<h2></h2><iframe width=\"560\" height=\"315\" src=\"https://video.wixstatic.com/video/63c006_3ec91f5fce6b46e186c323a2de2f1c67/480p/mp4/file.mp4\" title=\"YouTube video player\" frameborder=\"0\" allow=\"accelerometer; autoplay; clipboard-write; encrypted-media; gyroscope; picture-in-picture\" allowfullscreen></iframe>')\n"
      ],
      "metadata": {
        "colab": {
          "base_uri": "https://localhost:8080/",
          "height": 354
        },
        "id": "iPtWXHE7JG9r",
        "outputId": "975eff40-e8eb-4460-f841-03b28dc9ffce"
      },
      "execution_count": null,
      "outputs": [
        {
          "output_type": "execute_result",
          "data": {
            "text/plain": [
              "<IPython.core.display.HTML object>"
            ],
            "text/html": [
              "<h2></h2><iframe width=\"560\" height=\"315\" src=\"https://video.wixstatic.com/video/63c006_3ec91f5fce6b46e186c323a2de2f1c67/480p/mp4/file.mp4\" title=\"YouTube video player\" frameborder=\"0\" allow=\"accelerometer; autoplay; clipboard-write; encrypted-media; gyroscope; picture-in-picture\" allowfullscreen></iframe>"
            ]
          },
          "metadata": {},
          "execution_count": 1
        }
      ]
    }
  ]
}